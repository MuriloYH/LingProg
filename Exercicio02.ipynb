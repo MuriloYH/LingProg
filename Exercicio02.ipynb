{
 "cells": [
  {
   "cell_type": "markdown",
   "metadata": {},
   "source": [
    "# Exercícios de Paradigmas de Linguagens de Programação\n",
    "\n",
    "### ***Listas***\n",
    "\n",
    "1 Crie um programa que recebe uma lista de números e\n",
    "- retorne o maior elemento\n",
    "- retorne a soma dos elementos\n",
    "- retorne o número de ocorrências do primeiro elemento da lista\n",
    "- retorne a média dos elementos\n",
    "- retorne o valor mais próximo da média dos elementos\n",
    "- retorne a soma dos elementos com valor negativo\n",
    "- retorne a quantidade de vizinhos iguais"
   ]
  },
  {
   "cell_type": "code",
   "execution_count": 1,
   "metadata": {},
   "outputs": [
    {
     "name": "stdin",
     "output_type": "stream",
     "text": [
      "Digite um valor para a Posição 0: 1\n"
     ]
    },
    {
     "name": "stdout",
     "output_type": "stream",
     "text": [
      "=-=-=-=-=-=-=-=-=-=-=-=-=-=-=-=-=-=-=-=-=-=-=-=-=-=-=-=-=-=-\n",
      "Você digitou os valores [1]\n"
     ]
    },
    {
     "name": "stdin",
     "output_type": "stream",
     "text": [
      "Digite um valor para a Posição 1: 2\n"
     ]
    },
    {
     "name": "stdout",
     "output_type": "stream",
     "text": [
      "=-=-=-=-=-=-=-=-=-=-=-=-=-=-=-=-=-=-=-=-=-=-=-=-=-=-=-=-=-=-\n",
      "Você digitou os valores [1, 2]\n"
     ]
    },
    {
     "name": "stdin",
     "output_type": "stream",
     "text": [
      "Digite um valor para a Posição 2: 3\n"
     ]
    },
    {
     "name": "stdout",
     "output_type": "stream",
     "text": [
      "=-=-=-=-=-=-=-=-=-=-=-=-=-=-=-=-=-=-=-=-=-=-=-=-=-=-=-=-=-=-\n",
      "Você digitou os valores [1, 2, 3]\n"
     ]
    },
    {
     "name": "stdin",
     "output_type": "stream",
     "text": [
      "Digite um valor para a Posição 3: 4\n"
     ]
    },
    {
     "name": "stdout",
     "output_type": "stream",
     "text": [
      "=-=-=-=-=-=-=-=-=-=-=-=-=-=-=-=-=-=-=-=-=-=-=-=-=-=-=-=-=-=-\n",
      "Você digitou os valores [1, 2, 3, 4]\n"
     ]
    },
    {
     "name": "stdin",
     "output_type": "stream",
     "text": [
      "Digite um valor para a Posição 4: 5\n"
     ]
    },
    {
     "name": "stdout",
     "output_type": "stream",
     "text": [
      "=-=-=-=-=-=-=-=-=-=-=-=-=-=-=-=-=-=-=-=-=-=-=-=-=-=-=-=-=-=-\n",
      "Você digitou os valores [1, 2, 3, 4, 5]\n",
      "Maior elemento:  5\n",
      "Soma dos elementos:  15\n",
      "Número de ocorrencias de 1: 1\n",
      "Média dos elementos:  3.0\n",
      "Número mais próximo da média:  3\n",
      "Soma dos elementos negativos:  0\n",
      "Vizinhos iguais:  0\n"
     ]
    }
   ],
   "source": [
    "lista1 = []\n",
    "for c in range (0, 5):\n",
    "    lista1.append(int(input(f'Digite um valor para a Posição {c}:')))\n",
    "    print('=-' * 30)\n",
    "    print(f'Você digitou os valores {lista1}')\n",
    "maior1 = lista1[0]\n",
    "soma1 = 0\n",
    "numOcorPrim = 0\n",
    "soman1 = 0\n",
    "vizinhosi = 0\n",
    "a = lista1[0] + 1\n",
    "\n",
    "for n1 in lista1:\n",
    "    if n1 > maior1:\n",
    "        maior1 = n1\n",
    "    soma1 += n1\n",
    "    if n1 == lista1[0]:\n",
    "        numOcorPrim += 1    \n",
    "    if n1 < 0:\n",
    "        soman1 += n1\n",
    "    if n1 == a:\n",
    "        vizinhosi += 1\n",
    "    a = n1\n",
    "    media = soma1 / len(lista1)\n",
    "    maisProximo = lista1[0]\n",
    "diferenca = media - lista1[0]\n",
    "menorDiferenca = diferenca\n",
    "for n1 in lista1:\n",
    "    diferenca = media - n1\n",
    "    if diferenca < 0:\n",
    "        diferenca = diferenca * -1\n",
    "    if diferenca < menorDiferenca:\n",
    "        menorDiferenca = diferenca\n",
    "        maisProximo = n1\n",
    "\n",
    "print(\"Maior elemento: \", maior1)\n",
    "print(\"Soma dos elementos: \", soma1)\n",
    "print(\"Número de ocorrencias de %i: %i\" % (lista1[0], numOcorPrim))\n",
    "print(\"Média dos elementos: \", media)\n",
    "print(\"Número mais próximo da média: \", maisProximo)\n",
    "print(\"Soma dos elementos negativos: \", soman1)\n",
    "print(\"Vizinhos iguais: \", vizinhosi) \n",
    "    "
   ]
  },
  {
   "cell_type": "markdown",
   "metadata": {},
   "source": [
    "2 Faça um programa que receba duas listas e retorne True se são iguais ou False caso\n",
    "contrario.  \n",
    "Duas listas são iguais se possuem os mesmos valores e na mesma ordem."
   ]
  },
  {
   "cell_type": "code",
   "execution_count": 2,
   "metadata": {},
   "outputs": [
    {
     "name": "stdin",
     "output_type": "stream",
     "text": [
      "Lista 1. Digite um valor para a Posição 0: 1\n"
     ]
    },
    {
     "name": "stdout",
     "output_type": "stream",
     "text": [
      "=-=-=-=-=-=-=-=-=-=-=-=-=-=-=-=-=-=-=-=-=-=-=-=-=-=-=-=-=-=-\n"
     ]
    },
    {
     "name": "stdin",
     "output_type": "stream",
     "text": [
      "Lista 1. Digite um valor para a Posição 1: 2\n"
     ]
    },
    {
     "name": "stdout",
     "output_type": "stream",
     "text": [
      "=-=-=-=-=-=-=-=-=-=-=-=-=-=-=-=-=-=-=-=-=-=-=-=-=-=-=-=-=-=-\n"
     ]
    },
    {
     "name": "stdin",
     "output_type": "stream",
     "text": [
      "Lista 1. Digite um valor para a Posição 2: 3\n"
     ]
    },
    {
     "name": "stdout",
     "output_type": "stream",
     "text": [
      "=-=-=-=-=-=-=-=-=-=-=-=-=-=-=-=-=-=-=-=-=-=-=-=-=-=-=-=-=-=-\n"
     ]
    },
    {
     "name": "stdin",
     "output_type": "stream",
     "text": [
      "Lista 1. Digite um valor para a Posição 3: 4\n"
     ]
    },
    {
     "name": "stdout",
     "output_type": "stream",
     "text": [
      "=-=-=-=-=-=-=-=-=-=-=-=-=-=-=-=-=-=-=-=-=-=-=-=-=-=-=-=-=-=-\n"
     ]
    },
    {
     "name": "stdin",
     "output_type": "stream",
     "text": [
      "Lista 1. Digite um valor para a Posição 4: 5\n"
     ]
    },
    {
     "name": "stdout",
     "output_type": "stream",
     "text": [
      "=-=-=-=-=-=-=-=-=-=-=-=-=-=-=-=-=-=-=-=-=-=-=-=-=-=-=-=-=-=-\n"
     ]
    },
    {
     "name": "stdin",
     "output_type": "stream",
     "text": [
      "Lista 2. Digite um valor para a Posição 0: 1\n"
     ]
    },
    {
     "name": "stdout",
     "output_type": "stream",
     "text": [
      "=-=-=-=-=-=-=-=-=-=-=-=-=-=-=-=-=-=-=-=-=-=-=-=-=-=-=-=-=-=-\n"
     ]
    },
    {
     "name": "stdin",
     "output_type": "stream",
     "text": [
      "Lista 2. Digite um valor para a Posição 1: 2\n"
     ]
    },
    {
     "name": "stdout",
     "output_type": "stream",
     "text": [
      "=-=-=-=-=-=-=-=-=-=-=-=-=-=-=-=-=-=-=-=-=-=-=-=-=-=-=-=-=-=-\n"
     ]
    },
    {
     "name": "stdin",
     "output_type": "stream",
     "text": [
      "Lista 2. Digite um valor para a Posição 2: 3\n"
     ]
    },
    {
     "name": "stdout",
     "output_type": "stream",
     "text": [
      "=-=-=-=-=-=-=-=-=-=-=-=-=-=-=-=-=-=-=-=-=-=-=-=-=-=-=-=-=-=-\n"
     ]
    },
    {
     "name": "stdin",
     "output_type": "stream",
     "text": [
      "Lista 2. Digite um valor para a Posição 3: 4\n"
     ]
    },
    {
     "name": "stdout",
     "output_type": "stream",
     "text": [
      "=-=-=-=-=-=-=-=-=-=-=-=-=-=-=-=-=-=-=-=-=-=-=-=-=-=-=-=-=-=-\n"
     ]
    },
    {
     "name": "stdin",
     "output_type": "stream",
     "text": [
      "Lista 2. Digite um valor para a Posição 4: 5\n"
     ]
    },
    {
     "name": "stdout",
     "output_type": "stream",
     "text": [
      "=-=-=-=-=-=-=-=-=-=-=-=-=-=-=-=-=-=-=-=-=-=-=-=-=-=-=-=-=-=-\n",
      "=-=-=-=-=-=-=-=-=-=-=-=-=-=-=-=-=-=-=-=-=-=-=-=-=-=-=-=-=-=-\n",
      "Você digitou os valores [1, 2, 3, 4, 5] para a lista 1\n",
      "Você digitou os valores [1, 2, 3, 4, 5] para a lista 2\n",
      "As listas digitadas são iguais?: True\n"
     ]
    }
   ],
   "source": [
    "lista1 = []\n",
    "for p in range (0, 5):\n",
    "    lista1.append(int(input(f'Lista 1. Digite um valor para a Posição {p}:')))\n",
    "    print('=-' * 30)\n",
    "lista2 = []\n",
    "for q in range (0, 5):\n",
    "    lista2.append(int(input(f'Lista 2. Digite um valor para a Posição {q}:')))\n",
    "    print('=-' * 30)\n",
    "    \n",
    "def saoIguais(lista1, lista2):\n",
    "    if len(lista1) == len(lista2):\n",
    "        for i in range(0, len(lista1)):\n",
    "            if lista1[i] != lista2[i]:\n",
    "                return False\n",
    "        return True\n",
    "    return False\n",
    "print('=-' * 30)\n",
    "print(f'Você digitou os valores {lista1} para a lista 1')\n",
    "print(f'Você digitou os valores {lista2} para a lista 2')\n",
    "print(\"As listas digitadas são iguais?:\", saoIguais(lista1, lista2))"
   ]
  },
  {
   "cell_type": "markdown",
   "metadata": {},
   "source": [
    "3 Faça um programa que receba duas listas e retorne True se têm os mesmos   \n",
    "elementos ou False caso contrário   \n",
    "Duas listas possuem os mesmos elementos quando são compostas pelos mesmos   \n",
    "valores, mas não obrigatoriamente na mesma ordem."
   ]
  },
  {
   "cell_type": "code",
   "execution_count": 3,
   "metadata": {},
   "outputs": [
    {
     "name": "stdin",
     "output_type": "stream",
     "text": [
      "Lista 1. Digite um valor para a Posição 0: 1\n"
     ]
    },
    {
     "name": "stdout",
     "output_type": "stream",
     "text": [
      "=-=-=-=-=-=-=-=-=-=-=-=-=-=-=-=-=-=-=-=-=-=-=-=-=-=-=-=-=-=-\n"
     ]
    },
    {
     "name": "stdin",
     "output_type": "stream",
     "text": [
      "Lista 1. Digite um valor para a Posição 1: 2\n"
     ]
    },
    {
     "name": "stdout",
     "output_type": "stream",
     "text": [
      "=-=-=-=-=-=-=-=-=-=-=-=-=-=-=-=-=-=-=-=-=-=-=-=-=-=-=-=-=-=-\n"
     ]
    },
    {
     "name": "stdin",
     "output_type": "stream",
     "text": [
      "Lista 1. Digite um valor para a Posição 2: 3\n"
     ]
    },
    {
     "name": "stdout",
     "output_type": "stream",
     "text": [
      "=-=-=-=-=-=-=-=-=-=-=-=-=-=-=-=-=-=-=-=-=-=-=-=-=-=-=-=-=-=-\n"
     ]
    },
    {
     "name": "stdin",
     "output_type": "stream",
     "text": [
      "Lista 1. Digite um valor para a Posição 3: 4\n"
     ]
    },
    {
     "name": "stdout",
     "output_type": "stream",
     "text": [
      "=-=-=-=-=-=-=-=-=-=-=-=-=-=-=-=-=-=-=-=-=-=-=-=-=-=-=-=-=-=-\n"
     ]
    },
    {
     "name": "stdin",
     "output_type": "stream",
     "text": [
      "Lista 1. Digite um valor para a Posição 4: 5\n"
     ]
    },
    {
     "name": "stdout",
     "output_type": "stream",
     "text": [
      "=-=-=-=-=-=-=-=-=-=-=-=-=-=-=-=-=-=-=-=-=-=-=-=-=-=-=-=-=-=-\n"
     ]
    },
    {
     "name": "stdin",
     "output_type": "stream",
     "text": [
      "Lista 2. Digite um valor para a Posição 0: 5\n"
     ]
    },
    {
     "name": "stdout",
     "output_type": "stream",
     "text": [
      "=-=-=-=-=-=-=-=-=-=-=-=-=-=-=-=-=-=-=-=-=-=-=-=-=-=-=-=-=-=-\n"
     ]
    },
    {
     "name": "stdin",
     "output_type": "stream",
     "text": [
      "Lista 2. Digite um valor para a Posição 1: 4\n"
     ]
    },
    {
     "name": "stdout",
     "output_type": "stream",
     "text": [
      "=-=-=-=-=-=-=-=-=-=-=-=-=-=-=-=-=-=-=-=-=-=-=-=-=-=-=-=-=-=-\n"
     ]
    },
    {
     "name": "stdin",
     "output_type": "stream",
     "text": [
      "Lista 2. Digite um valor para a Posição 2: 3\n"
     ]
    },
    {
     "name": "stdout",
     "output_type": "stream",
     "text": [
      "=-=-=-=-=-=-=-=-=-=-=-=-=-=-=-=-=-=-=-=-=-=-=-=-=-=-=-=-=-=-\n"
     ]
    },
    {
     "name": "stdin",
     "output_type": "stream",
     "text": [
      "Lista 2. Digite um valor para a Posição 3: 2\n"
     ]
    },
    {
     "name": "stdout",
     "output_type": "stream",
     "text": [
      "=-=-=-=-=-=-=-=-=-=-=-=-=-=-=-=-=-=-=-=-=-=-=-=-=-=-=-=-=-=-\n"
     ]
    },
    {
     "name": "stdin",
     "output_type": "stream",
     "text": [
      "Lista 2. Digite um valor para a Posição 4: 1\n"
     ]
    },
    {
     "name": "stdout",
     "output_type": "stream",
     "text": [
      "=-=-=-=-=-=-=-=-=-=-=-=-=-=-=-=-=-=-=-=-=-=-=-=-=-=-=-=-=-=-\n",
      "=-=-=-=-=-=-=-=-=-=-=-=-=-=-=-=-=-=-=-=-=-=-=-=-=-=-=-=-=-=-\n",
      "Você digitou os valores [1, 2, 3, 4, 5] para a lista 1\n",
      "Você digitou os valores [5, 4, 3, 2, 1] para a lista 2\n",
      "As listas digitadas são iguais?: True\n"
     ]
    }
   ],
   "source": [
    "lista1 = []\n",
    "for p in range (0, 5):\n",
    "    lista1.append(int(input(f'Lista 1. Digite um valor para a Posição {p}:')))\n",
    "    print('=-' * 30)\n",
    "lista2 = []\n",
    "for q in range (0, 5):\n",
    "    lista2.append(int(input(f'Lista 2. Digite um valor para a Posição {q}:')))\n",
    "    print('=-' * 30)\n",
    "    \n",
    "def mesmosValores(lista1, lista2):\n",
    "    lista1.sort()\n",
    "    lista2.sort()\n",
    "    if len(lista1) == len(lista2):\n",
    "        for n in range(0, len(lista1)):\n",
    "            if lista1[n] != lista2[n]:\n",
    "                return False\n",
    "        return True\n",
    "    return False\n",
    "print('=-' * 30)\n",
    "print(f'Você digitou os valores {lista1} para a lista 1')\n",
    "print(f'Você digitou os valores {lista2} para a lista 2')\n",
    "print(\"As listas digitadas são iguais?:\", mesmosValores(lista1, lista2))"
   ]
  },
  {
   "cell_type": "markdown",
   "metadata": {},
   "source": [
    "4 Faça um programa que percorre uma lista com o seguinte formato:   \n",
    "[['Brasil', 'Italia', [10, 9]], ['Brasil', 'Espanha', [5, 7]], ['Italia', 'Espanha', [7,8]]].   \n",
    "Essa lista indica o número de faltas que cada time fez em cada jogo. Na lista acima, no jogo entre Brasil e    Itália, o Brasil fez 10 faltas e a Itália fez 9. O programa deve imprimir na tela:   \n",
    "O programa deve imprimir na tela:\n",
    "- o total de faltas do campeonato\n",
    "- o time que fez mais faltas\n",
    "- o time que fez menos faltas"
   ]
  },
  {
   "cell_type": "code",
   "execution_count": 4,
   "metadata": {},
   "outputs": [
    {
     "name": "stdout",
     "output_type": "stream",
     "text": [
      "Os resultados dos jogos: [['Brasil', 'Italia', [10, 9]], ['Brasil', 'Espanha', [5, 7]], ['Italia', 'Espanha', [7, 8]]]\n",
      "=-=-=-=-=-=-=-=-=-=-=-=-=-=-=-=-=-=-=-=-=-=-=-=-=-=-=-=-=-=-\n",
      "O total de faltas do campeonato: 46\n",
      "=-=-=-=-=-=-=-=-=-=-=-=-=-=-=-=-=-=-=-=-=-=-=-=-=-=-=-=-=-=-\n",
      "Time com mais faltas: Italia - 16 faltas\n",
      "=-=-=-=-=-=-=-=-=-=-=-=-=-=-=-=-=-=-=-=-=-=-=-=-=-=-=-=-=-=-\n",
      "Time com menos faltas: Brasil - 15 faltas\n"
     ]
    }
   ],
   "source": [
    "jogos = [['Brasil', 'Italia', [10, 9]], ['Brasil', 'Espanha', [5, 7]], ['Italia', 'Espanha', [7,8]]]\n",
    "\n",
    "totalFaltas = 0\n",
    "for j in jogos:\n",
    "    totalFaltas += j[2][0]\n",
    "    totalFaltas += j[2][1]\n",
    "\n",
    "d = {}\n",
    "for j in jogos:\n",
    "    d[j[0]] = 0\n",
    "    d[j[1]] = 0\n",
    "\n",
    "\n",
    "for j in jogos:\n",
    "    d[j[0]] += j[2][0]\n",
    "    d[j[1]] += j[2][1]\n",
    "\n",
    "print(f'Os resultados dos jogos: {jogos}')\n",
    "print('=-' * 30)\n",
    "print(f'O total de faltas do campeonato: {totalFaltas}')\n",
    "print('=-' * 30)\n",
    "print(f'Time com mais faltas: {max(d, key=d.get)} - {d[max(d, key=d.get)]} faltas')\n",
    "print('=-' * 30)\n",
    "print(f'Time com menos faltas: {min(d, key=d.get)} - {d[min(d, key=d.get)]} faltas')"
   ]
  },
  {
   "cell_type": "markdown",
   "metadata": {},
   "source": [
    "### ***Dicionários***\n",
    "\n",
    "\n",
    "5 Escreva um programa que conta a quantidade de vogais em uma string e armazena   \n",
    "tal quantidade em um dicionário, onde a chave é a vogal considerada."
   ]
  },
  {
   "cell_type": "code",
   "execution_count": 5,
   "metadata": {},
   "outputs": [
    {
     "name": "stdin",
     "output_type": "stream",
     "text": [
      "Escreva uma frase:  Murilo o legal e lindo\n"
     ]
    },
    {
     "name": "stdout",
     "output_type": "stream",
     "text": [
      "A frase escrita foi: Murilo o legal e lindo\n",
      "=-=-=-=-=-=-=-=-=-=-=-=-=-=-=-=-=-=-=-=-=-=-=-=-=-=-=-=-=-=-\n",
      "Quantidade de A's: 1\n",
      "=-=-=-=-=-=-=-=-=-=-=-=-=-=-=-=-=-=-=-=-=-=-=-=-=-=-=-=-=-=-\n",
      "Quantidade de E's: 2\n",
      "=-=-=-=-=-=-=-=-=-=-=-=-=-=-=-=-=-=-=-=-=-=-=-=-=-=-=-=-=-=-\n",
      "Quantidade de I's: 2\n",
      "=-=-=-=-=-=-=-=-=-=-=-=-=-=-=-=-=-=-=-=-=-=-=-=-=-=-=-=-=-=-\n",
      "Quantidade de O's: 3\n",
      "=-=-=-=-=-=-=-=-=-=-=-=-=-=-=-=-=-=-=-=-=-=-=-=-=-=-=-=-=-=-\n",
      "Quantidade de U's: 1\n"
     ]
    }
   ],
   "source": [
    "frase = input(\"Escreva uma frase: \")\n",
    "\n",
    "dic = {\n",
    "    \"a\": 0,\n",
    "    \"e\": 0,\n",
    "    \"i\": 0,\n",
    "    \"o\": 0,\n",
    "    \"u\": 0,\n",
    "}\n",
    "\n",
    "for letra in frase:\n",
    "    if letra.lower() == \"a\":\n",
    "        dic[\"a\"] += 1\n",
    "    if letra.lower() == \"e\":\n",
    "        dic[\"e\"] += 1\n",
    "    if letra.lower() == \"i\":\n",
    "        dic[\"i\"] += 1\n",
    "    if letra.lower() == \"o\":\n",
    "        dic[\"o\"] += 1\n",
    "    if letra.lower() == \"u\":\n",
    "        dic[\"u\"] += 1\n",
    "print(\"A frase escrita foi:\",frase)\n",
    "print('=-' * 30)\n",
    "print(\"Quantidade de A's:\", dic[\"a\"])\n",
    "print('=-' * 30)\n",
    "print(\"Quantidade de E's:\", dic[\"e\"])\n",
    "print('=-' * 30)\n",
    "print(\"Quantidade de I's:\", dic[\"i\"])\n",
    "print('=-' * 30)\n",
    "print(\"Quantidade de O's:\", dic[\"o\"])\n",
    "print('=-' * 30)\n",
    "print(\"Quantidade de U's:\", dic[\"u\"])"
   ]
  },
  {
   "cell_type": "markdown",
   "metadata": {},
   "source": [
    "6 Escreva um programa que lê̂ duas notas de vários alunos e armazena tais notas em   \n",
    "um dicionário, onde a chave é o nome do aluno. A entrada de dados deve terminar   \n",
    "quando for lida uma string vazia como nome. Escreva uma função que retorna a   \n",
    "média do aluno, dado seu nome.   "
   ]
  },
  {
   "cell_type": "code",
   "execution_count": 7,
   "metadata": {},
   "outputs": [
    {
     "name": "stdin",
     "output_type": "stream",
     "text": [
      "Insira o nome do aluno: Murilo\n",
      "Digite a primeira nota do(a) Murilo:  10.0\n",
      "Digite a segunda nota do(a) Murilo:  7.0\n",
      "Quer adicionar mais um aluno? [S/N] s\n",
      "Insira o nome do aluno: Matheus\n",
      "Digite a primeira nota do(a) Matheus:  10.0\n",
      "Digite a segunda nota do(a) Matheus:  2.0\n",
      "Quer adicionar mais um aluno? [S/N] s\n",
      "Insira o nome do aluno: Cleo\n",
      "Digite a primeira nota do(a) Cleo:  7.5\n",
      "Digite a segunda nota do(a) Cleo:  3.5\n",
      "Quer adicionar mais um aluno? [S/N] n\n",
      "Insira o nome do aluno o qual deseja ver a média:  Murilo\n"
     ]
    },
    {
     "data": {
      "text/plain": [
       "8.5"
      ]
     },
     "execution_count": 7,
     "metadata": {},
     "output_type": "execute_result"
    }
   ],
   "source": [
    "alunos = {}\n",
    "while True:\n",
    "    nome = str(input('Insira o nome do aluno:'))\n",
    "    alunos[nome] = [\n",
    "        float(input(f'Digite a primeira nota do(a) {nome}: ')),\n",
    "        float(input(f'Digite a segunda nota do(a) {nome}: '))\n",
    "    ]\n",
    "    while True:\n",
    "        resp = str(input(f'Quer adicionar mais um aluno? [S/N]')).upper()[0]\n",
    "        if resp in 'SN':\n",
    "            break\n",
    "            print('ERRO! Responda apenas com S ou N.')\n",
    "    if resp == 'N':\n",
    "        break\n",
    "            \n",
    "def media(nome):\n",
    "    return (alunos[nome][0] + alunos[nome][1]) / 2\n",
    "\n",
    "media(input(\"Insira o nome do aluno o qual deseja ver a média: \"))"
   ]
  },
  {
   "cell_type": "markdown",
   "metadata": {},
   "source": [
    "7 Uma pista de Kart permite 10 voltas para cada um de 6 corredores. Escreva um   \n",
    "programa que leia todos os tempos em segundos e os guarde em um dicionário,   \n",
    "onde a chave é o nome do corredor. Ao final diga de quem foi a melhor volta da   \n",
    "prova e em que volta; e ainda a classificação final em ordem (1 o o campeão). O   \n",
    "campeão é o que tem a menor média de tempos.   "
   ]
  },
  {
   "cell_type": "code",
   "execution_count": 8,
   "metadata": {},
   "outputs": [
    {
     "name": "stdout",
     "output_type": "stream",
     "text": [
      "Melhor volta foi de 48 segundos, do corredor Corredor3\n",
      "1° lugar: Corredor3 - 59.9 segs.\n",
      "2° lugar: Corredor1 - 60.6 segs.\n",
      "3° lugar: Corredor2 - 60.8 segs.\n",
      "4° lugar: Corredor5 - 61.2 segs.\n",
      "5° lugar: Corredor6 - 61.6 segs.\n",
      "6° lugar: Corredor4 - 63.8 segs.\n"
     ]
    }
   ],
   "source": [
    "import operator\n",
    "\n",
    "kart = {'Corredor1':[57, 58, 60, 56, 64, 70, 59, 58, 69, 55], \n",
    "         'Corredor2':[56, 60, 72, 50, 67, 58, 61, 63, 62, 59], \n",
    "         'Corredor3':[79, 52, 58, 48, 58, 59, 61, 65, 59, 60], \n",
    "         'Corredor4':[56, 50, 55, 70, 85, 73, 68, 65, 56, 60], \n",
    "         'Corredor5':[69, 55, 67, 50, 52, 53, 70, 75, 65, 56], \n",
    "         'Corredor6':[56, 63, 63, 65, 70, 59, 55, 60, 63, 62]}\n",
    "\n",
    "volta = 0\n",
    "medias = kart\n",
    "nome = \"\"\n",
    "melhorVolta = kart[\"Corredor1\"][0]\n",
    "for chave in kart:\n",
    "    soma = 0\n",
    "    for num in kart[chave]:\n",
    "        if num < melhorVolta:\n",
    "            melhorVolta = num\n",
    "            nome = chave\n",
    "        soma += num\n",
    "    medias[chave] = soma / 10\n",
    "    \n",
    "print(\"Melhor volta foi de\",melhorVolta,\"segundos, do corredor\",nome)\n",
    "sort = sorted(medias.items(), key=operator.itemgetter(1))\n",
    "for i in range(0, 6):\n",
    "    print(\"%s° lugar: %s - %s segs.\" % (i + 1, sort[i][0], sort[i][1]))"
   ]
  },
  {
   "cell_type": "markdown",
   "metadata": {},
   "source": [
    "8 Escreva um programa para armazenar uma agenda de telefones em um dicionário.   \n",
    "Cada pessoa pode ter um ou mais telefones e a chave do dicionário é o nome da   \n",
    "pessoa. Seu programa deve ter as seguintes funções:   \n",
    "- incluirNovoNome – essa função acrescenta um novo nome na agenda, com um ou   \n",
    "mais telefones. Ela deve receber como argumentos o nome e os telefones.   \n",
    "- incluirTelefone – essa função acrescenta um telefone em um nome existente na   \n",
    "agenda. Caso o nome não exista na agenda, você̂ deve perguntar se a pessoa deseja   \n",
    "inclui-lo. Caso a resposta seja afirmativa, use a função anterior para incluir o novo   \n",
    "nome.   \n",
    "- excluirTelefone – essa função exclui um telefone de uma pessoa que já está na   \n",
    "agenda. Se a pessoa tiver apenas um telefone, ela deve ser excluída da agenda.    \n",
    "- excluirNome – essa função exclui uma pessoa da agenda.    \n",
    "- consultarTelefone – essa função retorna os telefones de uma pessoa na agenda."
   ]
  },
  {
   "cell_type": "code",
   "execution_count": 10,
   "metadata": {},
   "outputs": [
    {
     "name": "stdin",
     "output_type": "stream",
     "text": [
      "\n",
      "Escolha uma opção: \n",
      "1 - Incluir Novo Nome\n",
      "2 - Incluir Telefone\n",
      "3 - Excluir Telefone\n",
      "4 - Excluir Nome\n",
      "5 - Consultar Agenda\n",
      "0 - Encerrar Programa\n",
      " 1\n",
      "Insira o nome da pessoa:  Murilo\n",
      "Insira um telefone da pessoa:  959565327\n",
      "Inserir outro telefone (ou digite 0 para parar):  0\n",
      "\n",
      "Escolha uma opção: \n",
      "1 - Incluir Novo Nome\n",
      "2 - Incluir Telefone\n",
      "3 - Excluir Telefone\n",
      "4 - Excluir Nome\n",
      "5 - Consultar Agenda\n",
      "0 - Encerrar Programa\n",
      " 2\n",
      "Insira o nome da pessoa:  Murilo\n",
      "Insira um novo telefone da pessoa:  81726559\n",
      "\n",
      "Escolha uma opção: \n",
      "1 - Incluir Novo Nome\n",
      "2 - Incluir Telefone\n",
      "3 - Excluir Telefone\n",
      "4 - Excluir Nome\n",
      "5 - Consultar Agenda\n",
      "0 - Encerrar Programa\n",
      " 3\n",
      "Insira o nome da pessoa:  Murilo\n",
      "Insira o telefone da pessoa a qual deseja excluir:  81726559\n",
      "\n",
      "Escolha uma opção: \n",
      "1 - Incluir Novo Nome\n",
      "2 - Incluir Telefone\n",
      "3 - Excluir Telefone\n",
      "4 - Excluir Nome\n",
      "5 - Consultar Agenda\n",
      "0 - Encerrar Programa\n",
      " 5\n",
      "Insira o nome da pessoa:  Murilo\n"
     ]
    },
    {
     "name": "stdout",
     "output_type": "stream",
     "text": [
      "[959565327]\n"
     ]
    },
    {
     "name": "stdin",
     "output_type": "stream",
     "text": [
      "\n",
      "Escolha uma opção: \n",
      "1 - Incluir Novo Nome\n",
      "2 - Incluir Telefone\n",
      "3 - Excluir Telefone\n",
      "4 - Excluir Nome\n",
      "5 - Consultar Agenda\n",
      "0 - Encerrar Programa\n",
      " 4\n",
      "Insira o nome da pessoa:  Murilo\n",
      "\n",
      "Escolha uma opção: \n",
      "1 - Incluir Novo Nome\n",
      "2 - Incluir Telefone\n",
      "3 - Excluir Telefone\n",
      "4 - Excluir Nome\n",
      "5 - Consultar Agenda\n",
      "0 - Encerrar Programa\n",
      " 5\n",
      "Insira o nome da pessoa:  Murilo\n",
      "\n",
      "Escolha uma opção: \n",
      "1 - Incluir Novo Nome\n",
      "2 - Incluir Telefone\n",
      "3 - Excluir Telefone\n",
      "4 - Excluir Nome\n",
      "5 - Consultar Agenda\n",
      "0 - Encerrar Programa\n",
      " 0\n"
     ]
    }
   ],
   "source": [
    "agenda = {}\n",
    "\n",
    "def incluirNovoNome(nome, telefones):\n",
    "    global agenda\n",
    "    agenda[nome] = telefones\n",
    "    \n",
    "def incluirTelefone(nome, telefone):\n",
    "    global agenda\n",
    "    if nome in agenda.keys():\n",
    "        agenda[nome].append(telefone)\n",
    "    else:\n",
    "        if input(\"Essa pessoa não existe, incluir ela na agenda (s/n)? \") == \"s\":\n",
    "            telefones = [telefone]\n",
    "            incluirNovoNome(nome, telefones)\n",
    "            \n",
    "def excluirTelefone(nome, telefone):\n",
    "    if nome in agenda.keys():\n",
    "        if len(agenda[nome]) == 1:\n",
    "            del agenda[nome]\n",
    "        else:\n",
    "            agenda[nome].remove(telefone)\n",
    "            \n",
    "def excluirNome(nome):\n",
    "    del agenda[nome]\n",
    "\n",
    "def consultarTelefone(nome):\n",
    "    global agenda\n",
    "    if nome in agenda.keys():\n",
    "        print(agenda[nome])\n",
    "    \n",
    "opcao = -1\n",
    "while opcao != 0:\n",
    "    opcao = int(input(\"\\nEscolha uma opção: \\n1 - Incluir Novo Nome\\n2 - Incluir Telefone\\n3 - Excluir Telefone\\n4 - Excluir Nome\\n5 - Consultar Agenda\\n0 - Encerrar Programa\\n\"))\n",
    "    \n",
    "    # INSERIR NOVO NOME\n",
    "    if opcao == 1:\n",
    "        nome = input(\"Insira o nome da pessoa: \")\n",
    "        telefones = []\n",
    "        telefones.append(int(input(\"Insira um telefone da pessoa: \")))\n",
    "        telefone = -1\n",
    "        while telefone != 0:\n",
    "            telefone = int(input(\"Inserir outro telefone (ou digite 0 para parar): \"))\n",
    "            if telefone != 0:\n",
    "                telefones.append(telefone)\n",
    "        incluirNovoNome(nome, telefones)\n",
    "    # INCLUIR TELEFONE\n",
    "    elif opcao == 2:\n",
    "        nome = input(\"Insira o nome da pessoa: \")\n",
    "        telefone = int(input(\"Insira um novo telefone da pessoa: \"))\n",
    "        incluirTelefone(nome, telefone)\n",
    "    # EXCLUIR TELEFONE\n",
    "    elif opcao == 3:\n",
    "        nome = input(\"Insira o nome da pessoa: \")\n",
    "        telefone = int(input(\"Insira o telefone da pessoa a qual deseja excluir: \"))\n",
    "        excluirTelefone(nome, telefone)\n",
    "    # EXCLUIR NOME\n",
    "    elif opcao == 4:\n",
    "        excluirNome(input(\"Insira o nome da pessoa: \"))\n",
    "    # CONSULTAR TELEFONE\n",
    "    elif opcao == 5:\n",
    "        consultarTelefone(input(\"Insira o nome da pessoa: \"))"
   ]
  },
  {
   "cell_type": "markdown",
   "metadata": {},
   "source": [
    "### ***Arquivos***\n",
    "\n",
    "9 Faça um programa que leia um arquivo texto contendo uma lista de endereços IP e   \n",
    "gere um outro arquivo, contendo um relatório dos endereços IP válidos e inválidos.   \n",
    "O arquivo de entrada possui o seguinte formato:   \n",
    "\n",
    "200.135.80.9   \n",
    "192.168.1.1   \n",
    "8.35.67.74   \n",
    "257.32.4.5   \n",
    "85.345.1.2   \n",
    "1.2.3.4   \n",
    "9.8.234.5   \n",
    "192.168.0.256   \n",
    "\n",
    "O arquivo de saída possui o seguinte formato:\n",
    "\n",
    "[Endereços válidos:]   \n",
    "200.135.80.9   \n",
    "192.168.1.1   \n",
    "8.35.67.74   \n",
    "1.2.3.4   \n",
    "[Endereços inválidos:]    \n",
    "257.32.4.5   \n",
    "85.345.1.2   \n",
    "9.8.234.5   \n",
    "192.168.0.256   "
   ]
  },
  {
   "cell_type": "code",
   "execution_count": 11,
   "metadata": {},
   "outputs": [],
   "source": [
    "import socket\n",
    "\n",
    "ips_validos = []\n",
    "ips_invalidos = []\n",
    "\n",
    "ips = open(\"ips.txt\")\n",
    "\n",
    "for ip in ips:\n",
    "    try:\n",
    "        socket.inet_aton(ip)\n",
    "        ips_validos.append(ip)\n",
    "    except:\n",
    "        ips_invalidos.append(ip)\n",
    "        \n",
    "ips.close()\n",
    "\n",
    "saida = open(\"ipsvalidados.txt\", \"w+\")\n",
    "\n",
    "saida.write(\"[Endereços válidos:]\\n\")\n",
    "for ip in ips_validos:\n",
    "    saida.write(ip)\n",
    "    \n",
    "saida.write(\"\\nEndereços inválidos:}\\n\")\n",
    "for ip in ips_invalidos:\n",
    "    saida.write(ip)\n",
    "saida.close()\n"
   ]
  },
  {
   "cell_type": "markdown",
   "metadata": {},
   "source": [
    "10 A ACME Inc., uma empresa de 500 funcionários, está tendo problemas de espaço em disco no seu servidor de arquivos. Para tentar resolver este problema, o Administrador de Rede precisa saber qual o espaço ocupado pelos usuários, e identificar os usuários com maior espaço ocupado. Através de um programa, baixado da Internet, ele conseguiu gerar o seguinte arquivo, chamado \"usuarios.txt\":   \n",
    "\n",
    "alexandre 456123789   \n",
    "anderson 1245698456   \n",
    "antonio 123456456   \n",
    "carlos 91257581    \n",
    "cesar 987458    \n",
    "rosemary 789456125    \n",
    "\n",
    "Neste arquivo, o nome do usuário possui 15 caracteres. A partir deste arquivo, você deve criar um programa que gere um relatório, chamado \"relatório.txt\", no seguinte formato:\n",
    "\n",
    "ACME Inc.                         Uso do espaço em disco pelos usuários\n",
    "\n",
    "------------------------------------------------------------------------\n",
    "Nr. Usuário Espaço utilizado % do uso     \n",
    "1 alexandre 434,99 MB 16,85%    \n",
    "2 anderson 1187,99 MB 46,02%    \n",
    "3 antonio 117,73 MB 4,56%    \n",
    "4 carlos 87,03 MB 3,37%    \n",
    "5 cesar 0,94 MB 0,04%    \n",
    "6 rosemary 752,88 MB 29,16%     \n",
    "Espaço total ocupado: 2581,57 MB    \n",
    "Espaço médio ocupado: 430,26 MB    \n",
    "\n",
    "O arquivo de entrada deve ser lido uma única vez, e os dados armazenados em memória, caso sejam necessários, de forma a agilizar a execução do programa. A conversão da espaço ocupado em disco, de bytes para megabytes deverá ser feita através de uma função separada, que será chamada pelo programa principal. O cálculo do percentual de uso também deverá ser feito através de uma função, que será chamada pelo programa principal."
   ]
  },
  {
   "cell_type": "code",
   "execution_count": 12,
   "metadata": {},
   "outputs": [],
   "source": [
    "def paraMb(tamanho):\n",
    "    return float(tamanho / (1024*1024))\n",
    "\n",
    "def usoMemoria(tamanho, total):\n",
    "    return float(tamanho / total) * 100\n",
    "\n",
    "dic = {}\n",
    "total = 0\n",
    "usuarios = open(\"usuarios.txt\")\n",
    "for usuario in usuarios:\n",
    "    nome, memoria = usuario.split(\" \")\n",
    "    dic[nome] = int(memoria)\n",
    "    total += int(memoria)\n",
    "usuarios.close()\n",
    "media = total / len(dic.keys())\n",
    "\n",
    "relatorio = open(\"relatório.txt\", \"w+\")\n",
    "relatorio.write(\"ACME Inc.               Uso do espaço em disco pelos usuários.\\n\")\n",
    "relatorio.write(\"--------------------------------------------------------------\\n\")\n",
    "relatorio.write(\"Nr.\\tUsuário \\tEspaço utilizado\\t% do uso\\n\")\n",
    "\n",
    "nr = 1\n",
    "\n",
    "for usuario in dic:\n",
    "    relatorio.write(f'{str(nr)}\\t{usuario}   \\t{paraMb(dic[usuario]):.2f} MB   \\t\\t{usoMemoria(dic[usuario], total):.2f} \\n')\n",
    "    nr += 1\n",
    "    \n",
    "relatorio.write(f'Espaço total ocupado: {paraMb(total):.2f}\\n' +\n",
    "                f'Espaço médio ocupado {paraMb(media):.2f}')\n",
    "\n",
    "relatorio.close()"
   ]
  }
 ],
 "metadata": {
  "kernelspec": {
   "display_name": "Python 3",
   "language": "python",
   "name": "python3"
  },
  "language_info": {
   "codemirror_mode": {
    "name": "ipython",
    "version": 3
   },
   "file_extension": ".py",
   "mimetype": "text/x-python",
   "name": "python",
   "nbconvert_exporter": "python",
   "pygments_lexer": "ipython3",
   "version": "3.7.4"
  }
 },
 "nbformat": 4,
 "nbformat_minor": 4
}
