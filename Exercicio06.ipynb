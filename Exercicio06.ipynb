{
 "cells": [
  {
   "cell_type": "markdown",
   "metadata": {},
   "source": [
    "1 Defina a função soma_nat que recebe como argumento um número natural n\n",
    "e devolve a soma de todos os números naturais até n.   \n",
    "Ex: soma_nat(5) = 15"
   ]
  },
  {
   "cell_type": "code",
   "execution_count": 1,
   "metadata": {},
   "outputs": [
    {
     "name": "stdout",
     "output_type": "stream",
     "text": [
      "soma_nat(5) = 15\n",
      "soma_nat(4) = 10\n",
      "soma_nat(3) = 6\n"
     ]
    }
   ],
   "source": [
    "def soma_nat(n):\n",
    "    return n + soma_nat(n-1) if n > 1 else 1\n",
    "\n",
    "print('soma_nat(5) =',soma_nat(5))\n",
    "print('soma_nat(4) =',soma_nat(4))\n",
    "print('soma_nat(3) =',soma_nat(3))\n",
    "\n",
    "assert(soma_nat(5) == 15)\n",
    "assert(soma_nat(4) == 10)\n",
    "assert(soma_nat(3) == 6)\n"
   ]
  },
  {
   "cell_type": "markdown",
   "metadata": {},
   "source": [
    "2 Defina a função div que recebe como argumentos dois números naturais m\n",
    "e n e devolve o resultado da divisão inteira de m por n. Neste exercício você não\n",
    "pode recorrer às operações aritméticas de multiplicação, divisão e resto da divisão\n",
    "inteira.   \n",
    "Ex: div(7,2) = 3"
   ]
  },
  {
   "cell_type": "code",
   "execution_count": 2,
   "metadata": {},
   "outputs": [
    {
     "name": "stdout",
     "output_type": "stream",
     "text": [
      "div(7,2) = 3\n",
      "div(12,3) = 4\n",
      "div(2,1) = 2\n"
     ]
    }
   ],
   "source": [
    "def div(m, n):\n",
    "    return 1 + div(m - n, n) if m >= n else 0\n",
    "\n",
    "print('div(7,2) =',div(7,2))\n",
    "print('div(12,3) =',div(12,3))\n",
    "print('div(2,1) =',div(2,1))\n",
    "\n",
    "assert(div(7,2) == 3)\n",
    "assert(div(12,3) == 4)\n",
    "assert(div(2,1) == 2)\n",
    "\n",
    "\n"
   ]
  },
  {
   "cell_type": "markdown",
   "metadata": {},
   "source": [
    "3 Defina a função prim_alg que recebe como argumento um número natural e\n",
    "devolve o primeiro algarismo (o mais significativo) na representação decimal de n.   \n",
    "Ex: prim_alg(5649) = 5   \n",
    "Ex: prim_alg(7) = 7   "
   ]
  },
  {
   "cell_type": "code",
   "execution_count": 3,
   "metadata": {},
   "outputs": [
    {
     "name": "stdout",
     "output_type": "stream",
     "text": [
      "prim_alg(5649) = 5\n",
      "prim_alg(7) = 7\n",
      "prim_alg(100) = 1\n",
      "prim_alg(23) = 2\n"
     ]
    }
   ],
   "source": [
    "def prim_alg(n):\n",
    "    return int(n) if n < 10 else prim_alg(n/10)\n",
    "\n",
    "print('prim_alg(5649) =',prim_alg(5649))\n",
    "print('prim_alg(7) =',prim_alg(7))\n",
    "print('prim_alg(100) =',prim_alg(100))\n",
    "print('prim_alg(23) =',prim_alg(23))\n",
    "\n",
    "assert(prim_alg(5649) == 5)\n",
    "assert(prim_alg(7) == 7)\n",
    "assert(prim_alg(100) == 1)\n",
    "assert(prim_alg(23) == 2)"
   ]
  },
  {
   "cell_type": "markdown",
   "metadata": {},
   "source": [
    "4 Defina a função prod_lista que recebe como argumento uma lista de inteiros e\n",
    "devolve o produto dos seus elementos.   \n",
    "Ex: prod_lista([1,2,3,4,5,6]) = 720"
   ]
  },
  {
   "cell_type": "code",
   "execution_count": 4,
   "metadata": {},
   "outputs": [
    {
     "name": "stdout",
     "output_type": "stream",
     "text": [
      "prod_lista([1,2,3,4,5,6]) = 720\n",
      "prod_lista([1,2,3,]) = 6\n",
      "prod_lista([4,5,6]) = 120\n"
     ]
    }
   ],
   "source": [
    "def prod_lista(lista):\n",
    "    return lista[len(lista) - 1] * prod_lista(lista[:-1]) if len(lista) > 0 else 1\n",
    "\n",
    "print('prod_lista([1,2,3,4,5,6]) =',prod_lista([1,2,3,4,5,6]))\n",
    "print('prod_lista([1,2,3,]) =',prod_lista([1,2,3]))\n",
    "print('prod_lista([4,5,6]) =',prod_lista([4,5,6]))\n",
    "\n",
    "assert(prod_lista([1,2,3,4,5,6]) == 720)\n",
    "assert(prod_lista([1,2,3,]) == 6)\n",
    "assert(prod_lista([4,5,6]) == 120)"
   ]
  },
  {
   "cell_type": "markdown",
   "metadata": {},
   "source": [
    "5 Defina a função contem_parQ que recebe como argumento uma lista de números\n",
    "inteiros w e devolve True se w contém um número par e False em caso contrário.    \n",
    "Ex: contem_parQ([2,3,1,2,3,4]) = True   \n",
    "Ex: contem_parQ([1,3,5,7]) = False"
   ]
  },
  {
   "cell_type": "code",
   "execution_count": 5,
   "metadata": {},
   "outputs": [
    {
     "name": "stdout",
     "output_type": "stream",
     "text": [
      "contem_parQ([2,3,1,2,3,4]) = True\n",
      "contem_parQ([1,3,5,7]) = False\n",
      "contem_parQ([1,3,5,7,2]) = True\n",
      "contem_parQ([2,4,6,8]) = True\n"
     ]
    }
   ],
   "source": [
    "def contem_parQ(w):\n",
    "    return False if len(w) == 0 or (w[len(w) - 1] % 2 != 0 and not contem_parQ(w[:-1])) else True\n",
    "\n",
    "print('contem_parQ([2,3,1,2,3,4]) =',contem_parQ([2,3,1,2,3,4]))\n",
    "print('contem_parQ([1,3,5,7]) =',contem_parQ([1,3,5,7]))\n",
    "print('contem_parQ([1,3,5,7,2]) =',contem_parQ([1,3,5,7,2]))\n",
    "print('contem_parQ([2,4,6,8]) =',contem_parQ([2,4,6,8]))\n",
    "\n",
    "assert(contem_parQ([2,3,1,2,3,4]) == True)\n",
    "assert(contem_parQ([1,3,5,7]) == False)\n",
    "assert(contem_parQ([1,3,5,7,2]) == True)\n",
    "assert(contem_parQ([2,4,6,8]) == True)"
   ]
  },
  {
   "cell_type": "markdown",
   "metadata": {},
   "source": [
    "6 Defina a função todos_imparesQ que recebe como argumento uma lista de\n",
    "números inteiros w e devolve True se w contém apenas números ímpares e False\n",
    "em caso contrário.   \n",
    "Ex: todos_imparesQ([1,3,5,7]) = True   \n",
    "Ex: todos_imparesQ([]) = True   \n",
    "Ex: todos_imparesQ([1,2,3,4,5]) = False"
   ]
  },
  {
   "cell_type": "code",
   "execution_count": 6,
   "metadata": {},
   "outputs": [
    {
     "name": "stdout",
     "output_type": "stream",
     "text": [
      "todos_imparesQ([1,3,5,7]) = True\n",
      "todos_imparesQ([]) = True\n",
      "todos_imparesQ([1,2,3,4,5]) = False\n",
      "todos_imparesQ([1,3,5,7,9,11,13]) = True\n",
      "todos_imparesQ([0,1,3,5,7]) = False\n"
     ]
    }
   ],
   "source": [
    "def todos_imparesQ(w):\n",
    "    return True if len(w) == 0 or (w[len(w) - 1] % 2 != 0 and todos_imparesQ(w[:-1])) else False\n",
    "\n",
    "print('todos_imparesQ([1,3,5,7]) =',todos_imparesQ([1,3,5,7]))\n",
    "print('todos_imparesQ([]) =',todos_imparesQ([]))\n",
    "print('todos_imparesQ([1,2,3,4,5]) =',todos_imparesQ([1,2,3,4,5]))\n",
    "print('todos_imparesQ([1,3,5,7,9,11,13]) =',todos_imparesQ([1,3,5,7,9,11,13]))\n",
    "print('todos_imparesQ([0,1,3,5,7]) =',todos_imparesQ([0,1,3,5,7]))\n",
    "\n",
    "assert(todos_imparesQ([1,3,5,7]) == True)\n",
    "assert(todos_imparesQ([]) == True)\n",
    "assert(todos_imparesQ([1,2,3,4,5]) == False)\n",
    "assert(todos_imparesQ([1,3,5,7,9,11,13]) == True)\n",
    "assert(todos_imparesQ([0,1,3,5,7]) == False)"
   ]
  },
  {
   "cell_type": "markdown",
   "metadata": {},
   "source": [
    "7 Defina a função pertenceQ que recebe como argumentos uma lista de números\n",
    "inteiros w e um número inteiro n e devolve True se n ocorre em w e False em\n",
    "caso contrário.   \n",
    "Ex: pertenceQ([1,2,3],1) = True   \n",
    "Ex: pertenceQ([1,2,3],2) = True   \n",
    "Ex: pertenceQ([1,2,3],3) = True   \n",
    "Ex: pertenceQ([1,2,3],4) = False"
   ]
  },
  {
   "cell_type": "code",
   "execution_count": 7,
   "metadata": {},
   "outputs": [
    {
     "name": "stdout",
     "output_type": "stream",
     "text": [
      "pertenceQ([1,2,3],1) = True\n",
      "pertenceQ([1,2,3],2) = True\n",
      "pertenceQ([1,2,3],3) = True\n",
      "pertenceQ([1,2,3],4) = False\n",
      "pertenceQ([4,5,6],4) = True\n",
      "pertenceQ([8,9,10],4) = False\n"
     ]
    }
   ],
   "source": [
    "def pertenceQ(w, n):\n",
    "    return not(len(w) == 0 or (w.pop() != n and not pertenceQ(w, n)))\n",
    "\n",
    "print('pertenceQ([1,2,3],1) =',pertenceQ([1,2,3],1))\n",
    "print('pertenceQ([1,2,3],2) =',pertenceQ([1,2,3],2))\n",
    "print('pertenceQ([1,2,3],3) =',pertenceQ([1,2,3],3))\n",
    "print('pertenceQ([1,2,3],4) =',pertenceQ([1,2,3],4))\n",
    "print('pertenceQ([4,5,6],4) =',pertenceQ([4,5,6],4))\n",
    "print('pertenceQ([8,9,10],4) =',pertenceQ([8,9,10],4))\n",
    "\n",
    "\n",
    "\n",
    "assert(pertenceQ([1,2,3],1) == True)\n",
    "assert(pertenceQ([1,2,3],2) == True)\n",
    "assert(pertenceQ([1,2,3],3) == True)\n",
    "assert(pertenceQ([1,2,3],4) == False)\n",
    "assert(pertenceQ([4,5,6],4) == True)\n",
    "assert(pertenceQ([8,9,10],4) == False)"
   ]
  },
  {
   "cell_type": "markdown",
   "metadata": {},
   "source": [
    "8 Defina a função junta que recebe como argumentos duas listas de números\n",
    "inteiros w1 e w2 e devolve a concatenação de w1 com w2 .   \n",
    "Ex: junta([1,2,3],[4,5,6]) = [1, 2, 3, 4, 5, 6]   \n",
    "Ex: junta([],[4,5,6]) = [4, 5, 6]   \n",
    "Ex: junta([1,2,3],[]) = [1, 2, 3]"
   ]
  },
  {
   "cell_type": "code",
   "execution_count": 8,
   "metadata": {},
   "outputs": [
    {
     "name": "stdout",
     "output_type": "stream",
     "text": [
      "junta([1,2,3],[4,5,6]) = [1, 2, 3, 4, 5, 6]\n",
      "junta([],[4,5,6]) = [4, 5, 6]\n",
      "junta([1,2,3],[]) = [1, 2, 3]\n",
      "junta([14,15,16],[4,5,6]) = [14, 15, 16, 4, 5, 6]\n",
      "junta([1,2,3],[1,2,3]) = [1, 2, 3, 1, 2, 3]\n"
     ]
    }
   ],
   "source": [
    "def junta(w1, w2):\n",
    "    return w1 + junta(w2[0:1], w2[1:]) if len(w2) > 0 else w1 + w2\n",
    "\n",
    "print('junta([1,2,3],[4,5,6]) =',junta([1,2,3],[4,5,6]))\n",
    "print('junta([],[4,5,6]) =',junta([],[4,5,6]) )\n",
    "print('junta([1,2,3],[]) =',junta([1,2,3],[]) )\n",
    "print('junta([14,15,16],[4,5,6]) =',junta([14,15,16],[4,5,6]) )\n",
    "print('junta([1,2,3],[1,2,3]) =',junta([1,2,3],[1,2,3]) )\n",
    "\n",
    "assert(junta([1,2,3],[4,5,6]) == [1, 2, 3, 4, 5, 6])\n",
    "assert(junta([],[4,5,6]) == [4, 5, 6])\n",
    "assert(junta([1,2,3],[]) == [1, 2, 3])\n",
    "assert(junta([14,15,16],[4,5,6]) == [14, 15, 16,4, 5, 6])\n",
    "assert(junta([1,2,3],[1,2,3]) == [1, 2, 3, 1, 2, 3])"
   ]
  },
  {
   "cell_type": "markdown",
   "metadata": {},
   "source": [
    "9 Defina a função temPrimoQ que recebe como argumento uma lista de listas de\n",
    "números inteiros w e devolve True se alguma das sublistas w tem um número\n",
    "primo e False em caso contrário.   \n",
    "Ex: temPrimoQ([[4,4,4,4],[5,4,6,7],[2,4,3]]) = True   \n",
    "Ex: temPrimoQ([[4,4,4,4],[4,4,4],[],[4]]) = False"
   ]
  },
  {
   "cell_type": "code",
   "execution_count": 9,
   "metadata": {},
   "outputs": [
    {
     "name": "stdout",
     "output_type": "stream",
     "text": [
      "temPrimoQ([[4,4,4,4],[5,4,6,7],[2,4,3]]) = True\n",
      "temPrimoQ([[4,4,4,4],[4,4,4],[],[4]]) = False\n",
      "temPrimoQ([[4,4,4,4],[6,7,5,7],[1,1,1]]) = True\n",
      "temPrimoQ([[4,4,4,4],[4,4,4],[],[4]]) = False\n"
     ]
    }
   ],
   "source": [
    "def auxTemPrimoQ(w):\n",
    "    return not(len(w) == 0 or(not(( w[0] % 2 != 0 and\n",
    "                                    w[0] % 3 != 0 and\n",
    "                                    w[0] % 5 != 0 and\n",
    "                                    w[0] % 7 != 0 and\n",
    "                                    w[0] % 11 != 0) or w.pop() in [2,3,5,7,11]) and not auxTemPrimoQ(w)))\n",
    "\n",
    "def temPrimoQ(w):    \n",
    "    return not(len(w) == 0 or (not(auxTemPrimoQ(w.pop())) and not temPrimoQ(w)))\n",
    "\n",
    "print('temPrimoQ([[4,4,4,4],[5,4,6,7],[2,4,3]]) =',temPrimoQ([[4,4,4,4],[5,4,6,7],[2,4,3]]))\n",
    "print('temPrimoQ([[4,4,4,4],[4,4,4],[],[4]]) =',temPrimoQ([[4,4,4,4],[4,4,4],[],[4]]))\n",
    "print('temPrimoQ([[4,4,4,4],[6,7,5,7],[1,1,1]]) =',temPrimoQ([[4,4,4,4],[6,7,5,7],[1,1,1]]))\n",
    "print('temPrimoQ([[4,4,4,4],[4,4,4],[],[4]]) =',temPrimoQ([[4,4,4,4],[4,4,4],[4,4],[4]]))\n",
    "\n",
    "assert(temPrimoQ([[4,4,4,4],[5,4,6,7],[2,4,3]]) == True)\n",
    "assert(temPrimoQ([[4,4,4,4],[4,4,4],[],[4]]) == False)\n",
    "assert(temPrimoQ([[4,4,4,4],[6,7,5,7],[1,1,1]]) == True)\n",
    "assert(temPrimoQ([[4,4,4,4],[4,4,4],[4,4],[4]]) == False)"
   ]
  },
  {
   "cell_type": "markdown",
   "metadata": {},
   "source": [
    "10 Defina a função inverteLista que recebe como argumento uma lista w e devolve a\n",
    "mesma lista mas invertida.   \n",
    "Ex: inverteLista([1,2,3,4,5]) = [5, 4, 3, 2, 1]   \n",
    "Ex: inverteLista([])"
   ]
  },
  {
   "cell_type": "code",
   "execution_count": 10,
   "metadata": {},
   "outputs": [
    {
     "name": "stdout",
     "output_type": "stream",
     "text": [
      "inverteLista([1,2,3,4,5]) = [5, 4, 3, 2, 1]\n",
      "inverteLista([]) = []\n",
      "inverteLista([5,4,3,2,1]) = [1, 2, 3, 4, 5]\n",
      "inverteLista([73,146,219]) = [219, 146, 73]\n"
     ]
    }
   ],
   "source": [
    "def inverteLista(w):\n",
    "    return [w[len(w) - 1]] + (inverteLista(w[:-1])) if len(w) > 0 else []\n",
    "\n",
    "print('inverteLista([1,2,3,4,5]) =',inverteLista([1,2,3,4,5]))\n",
    "print('inverteLista([]) =',inverteLista([]))\n",
    "print('inverteLista([5,4,3,2,1]) =',inverteLista([5,4,3,2,1]))\n",
    "print('inverteLista([73,146,219]) =',inverteLista([73,146,219]))\n",
    "\n",
    "\n",
    "assert(inverteLista([1,2,3,4,5]) == [5, 4, 3, 2, 1])\n",
    "assert(inverteLista([]) == [])\n",
    "assert(inverteLista([5,4,3,2,1]) == [1, 2, 3, 4, 5])\n",
    "assert(inverteLista([73,146,219]) == [219, 146, 73])"
   ]
  }
 ],
 "metadata": {
  "kernelspec": {
   "display_name": "Python 3",
   "language": "python",
   "name": "python3"
  },
  "language_info": {
   "codemirror_mode": {
    "name": "ipython",
    "version": 3
   },
   "file_extension": ".py",
   "mimetype": "text/x-python",
   "name": "python",
   "nbconvert_exporter": "python",
   "pygments_lexer": "ipython3",
   "version": "3.7.4"
  }
 },
 "nbformat": 4,
 "nbformat_minor": 4
}
